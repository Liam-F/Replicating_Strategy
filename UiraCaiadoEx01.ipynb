{
 "cells": [
  {
   "cell_type": "markdown",
   "metadata": {},
   "source": [
    "# Exercício 1: Ações e Commodities\n",
    "###  Implementando Uma Estratégia Replicante \n",
    "<sub>Uirá Caiado. 11 de Maio, 2016<sub>"
   ]
  },
  {
   "cell_type": "markdown",
   "metadata": {},
   "source": [
    "#### Resumo\n",
    "\n",
    "_Neste projeto vou implementar uma estratégia de hedging dinâmico auto-financiável que replique o payoff de diferentes derivativos. Devido à natureza aleatória do ativo objeto dos contratos testados, este será modelado como um processo estocástico. Uma vez implementado o modelo, será realizada um série de simulações para estudar a efetividade da estratégia._\n",
    "\n",
    "## 1. Introdução\n",
    "\n",
    "Nesta sessão dou uma breve descrição do que é uma EDE e declaro o problema que será abordado.\n",
    "\n",
    "### 1.1. Equações Diferenciais Estocásticas\n",
    "\n",
    "Devido à incerteza inerente ao mercado financeiro, é necessário levar em conta uma flutuação aleatória nos modelos criados para descrever diferentes instrumentos. Para tanto, frequentemente assume-se o comportamento de um ativo como sendo um [processo estocático](https://en.wikipedia.org/wiki/Stochastic_process). \n",
    "\n",
    "Como bem explicado neste [post](http://math.stackexchange.com/questions/1470686/in-laymans-terms-what-is-a-stochastic-process), um processo estocástico é uma maneira de representar como alguma coisa se desenvolve ao longo do tempo. A cada unidade de tempo, o ativo pode assumir uma de muitas posições possíveis, e cada uma destas posições tem uma probabilidade associada. Ainda que não seja possível antecipar qual trajeto o ativo vai seguir, é possível inferir quais caminhos são possíveis baseado nesta dinâmica.\n",
    "\n",
    "Processos estocásticos são de grande valia quando não se sabe exatamente as regras que regem esta evolução ou quando extrair tais regras com exatidão ou é muito complicado ou muito caro computacionalmente. Assim, frequentemente se utiliza alguma fonte de aleatoriadade para ajudar a descrever a dinâmica de um ativo. Aqui entram as EDEs. \\cite{Wilmont} oferece a seguinte intuição sobre a forma geral de Equações Diferenciais Estocásticas (EDE):\n",
    "\n",
    "$$\\mathrm{d}\\, Alguma\\,Coisa = Deterministico\\,\\mathrm{d}t + Aleatório\\,\\mathrm{d}X $$\n",
    "\n",
    "\n",
    "Onde $Alguma\\,Coisa$ é o que se quer modelar (como preço de uma ação, quantidade de pessoas chegando em um hospital e etc), $Deterministico$ uma função que descreve como  $Alguma\\,Coisa$ muda quando se retira a incerteza e $Aleatório$ outra função que descreve quão incerto $Alguma\\,Coisa$ coisa é e $X$ é uma variável aleatória que pode ter distribuição Normal Padrão, por exemplo.\n",
    "\n",
    "### 1.1. O Problema\n",
    "\n",
    "Considerando um ativo-objeto cujo a dinâmica do preço satisfaz a seguinte EDE:\n",
    "\n",
    "$$\\frac{\\mathrm{d} S_t}{S_t}=\\mu\\cdot \\mathrm{d}t + \\sigma\\cdot \\mathrm{d}W_{t}$$\n",
    "\n",
    "Será vendido um derivativo com característica européia cujo payoff é descrito por uma função qualquer $V_T=V(T, S_T)$, onde $T$ é o vencimento do derivativo. $S_T$ é o preço do ativo-objeto em $T$ e é possível negociar qualquer quantidade dele em qualquer instante. Não há custo de transação (corretagem, emolumento, bid-ask spread, etc) e posições vendidas a descoberto no subjacente são permitidas, não havendo custos associados.\n",
    "\n",
    "Pede-se que se implemente uma estratégia dinâmica de hedging auto-financiável que replique o payoff do derivativo vendido. A estratégia replicante será rebalanceada $N$ vezes (incluíndo a carteira inicial).\n",
    "\n",
    "A simulação deve ser feita para os payoffs abaixo. $K$ é o Strike da opção.\n",
    "- $V(T, S_T)=ln(S_T)$\n",
    "- $V(T, S_T)=(ln(S_T))^2$\n",
    "- $V(T, S_T)=(S_T-K)^2$\n",
    "- $V(T, S_T)=\\mathbf{1}_{S_T > K}$\n",
    "- $V(T, S_T)=max(S_T-K, 0)$\n"
   ]
  },
  {
   "cell_type": "markdown",
   "metadata": {},
   "source": [
    "## 2. Definições\n",
    "\n",
    "Nesta sessão vou calcular a solução analítica das opções sugeridas na última sessão e discretizar o a dinâmica do ativo objeto \n",
    "\n",
    "### 2.1. Discretizando o Processo Estocástico\n",
    "\n",
    "Para realizar a simulação, implementarei o processo estocástico do ativo-objeto, que segue um Movimento Browniano Geométrico. Desta forma, preciso discretizar o processo e tenho duas opções para isso: ou encontro a solução para a EDE porposta, que resultará no [processo estocástico desejado](https://en.wikipedia.org/wiki/Geometric_Brownian_motion); ou uso [método de Euler](http://www.columbia.edu/~mh2078/MCS04/MCS_SDEs.pdf). O último, apesar de ser apenas uma aproximação do processo, tem a a vantagem de poder ser aplicada à qualquer Equação diferencial Estocástica (\\cite{Wilmont}).\n",
    "\n",
    "Inicialmente, vou mostrar a solução da EDE e depois como posso ustilizar Euler. Assim, seguindo as notas de aula, tenho a minha dinâmica como sendo\n",
    "\n",
    "\\begin{equation}\n",
    "    \\begin{aligned}\n",
    "    \\frac{\\mathrm{d} S_t}{S_t} &= \\mu\\cdot \\mathrm{d}t + \\sigma\\cdot \\mathrm{d}W_{t}\n",
    "    \\end{aligned}\n",
    "\\end{equation}\n",
    "\n",
    "\n",
    "Que corresponde a forma derivada da integral estocástica:\n",
    "\n",
    "\n",
    "\\begin{equation}\n",
    "    \\begin{aligned}\n",
    "    \\int_{t}^{T}{\\frac{\\mathrm{d} S_t}{S_t}} &= \\int_{t}^{T}{\\mu\\cdot \\mathrm{d}t} + \\int_{t}^{T}{\\sigma\\cdot \\mathrm{d}W_{t}} \n",
    "    \\end{aligned}\n",
    "\\end{equation}\n",
    "\n",
    "\n",
    "\n",
    "Considerando o [Teorema de Ito-Doeblin](https://en.wikipedia.org/wiki/Itô%27s_lemma) (Lemma de Ito) sendo da forma abaixo\n",
    "\n",
    "\\begin{equation}\n",
    "    \\begin{aligned}\n",
    "    \\mathrm{d} f(t, S_t) = \\frac{\\mathrm{\\partial} f}{\\partial t} \\mathrm{d} t + \\frac{\\mathrm{\\partial} f}{\\partial S_t} \\mathrm{d} S_t + \\frac{1}{2} \\frac{\\mathrm{\\partial^2} f}{\\mathrm{\\partial} S_{t}^{2}} (\\mathrm{d} S_t)^2\n",
    "    \\end{aligned}\n",
    "\\end{equation}\n",
    "\n",
    "Se definir uma função $f(S_t) = ln(S_t)$, posso aplicar o Lema de Ito sobre ela. Dado que $(\\mathrm{d} t)^2 = \\mathrm{d} t \\cdot \\mathrm{d} X = 0$, e que $(\\mathrm{d} S_t)^2 = \\sigma^2  \\cdot S_{t}^{2} \\cdot \\mathrm{d} t$. Como não há termos dependentes de $t$ em $f$, não precisarei do termo relacionado a $\\mathrm{d} t$. Assim ficou com:\n",
    "\n",
    "\\begin{equation}\n",
    "    \\begin{aligned}\n",
    "    \\mathrm{d} f(t, S_t) &= \\frac{\\mathrm{\\partial} f}{\\partial S_t} \\mathrm{d} S_t + \\frac{1}{2} \\frac{\\mathrm{\\partial^2} f}{\\mathrm{\\partial} S_{t}^{2}} (\\mathrm{d} S_t)^2 \\\\\n",
    "    &= \\frac{1}{S_t} \\cdot \\mathrm{d} S_t - \\frac{\\sigma^2}{2} \\cdot S_{t}^{2} \\cdot \\frac{1}{S_{t}^{2}} \\cdot  \\mathrm{d} t \n",
    "    \\end{aligned}\n",
    "\\end{equation}\n",
    "\n",
    "Integrando dos instantes $t$ até $T$, obtenho:\n",
    "\n",
    "\\begin{equation}\n",
    "    \\begin{aligned}\n",
    "    \\int_{t}^{T} \\mathrm{d} f(t, S_t) &= \\int_{t}^{T} \\frac{1}{S_t} \\cdot \\mathrm{d} S_t - \\int_{t}^{T} \\frac{\\sigma^2}{2} \\cdot \\mathrm{d} t \\\\\n",
    "    \\int_{t}^{T} \\frac{\\mathrm{d} S_t}{S_t} &= \\int_{t}^{T} \\mathrm{d} f(t, S_t) + \\int_{t}^{T} \\frac{\\sigma^2}{2} \\cdot \\mathrm{d} t \\\\\n",
    "    &= f(S_T) - f(S_t) + \\frac{\\sigma^2}{2} \\cdot (T - t) \\\\\n",
    "    &= ln(S_T) - ln(S_t) + \\frac{\\sigma^2}{2} \\cdot (T - t) \\\\\n",
    "    &= ln(S_T/S_t) + \\frac{\\sigma^2}{2} \\cdot (T - t)\n",
    "    \\end{aligned}\n",
    "\\end{equation}\n",
    "\n",
    "Logo, substituíndo este resultado na integral estocástica da dinâmica da ação, chego que:\n",
    "\n",
    "\\begin{equation}\n",
    "    \\begin{aligned}\n",
    "    ln(S_T/S_t) + \\frac{\\sigma^2}{2} \\cdot (T - t) &= \\int_{t}^{T}{\\mu\\cdot \\mathrm{d}t} + \\int_{t}^{T}{\\sigma\\cdot \\mathrm{d}W_{t}} \\\\\n",
    "     ln(S_T/S_t) + \\frac{\\sigma^2}{2} \\cdot (T - t) &= \\mu\\cdot (T - t) + \\sigma \\cdot (W_{T} - W_{t})\n",
    "    \\end{aligned}\n",
    "\\end{equation}\n",
    "\n",
    "Por fim, lembrando que o $W_t$ é um processo de Winer e possui incrementos independentes, estacionários e distribuição $N(0, t)$ por definição, posso considerar que $W_t - W_s = W_{t-s}$. Termino com:\n",
    "\n",
    "\\begin{equation}\n",
    "    \\begin{aligned}\n",
    "     ln(S_T/S_t) + \\frac{\\sigma^2}{2} \\cdot (T - t) &= \\mu\\cdot (T - t) + \\sigma \\cdot W_{T-t} \\\\\n",
    "     ln(S_T/S_t) &= \\left (\\mu - \\frac{\\sigma^2}{2}\\right ) \\cdot (T - t) + \\sigma \\cdot W_{T-t} \\\\\n",
    "     S_T &= S_t \\cdot e^{ \\left (\\mu - \\frac{\\sigma^2}{2}\\right ) \\cdot (T - t) + \\sigma \\cdot W_{T-t}}\n",
    "    \\end{aligned}\n",
    "\\end{equation}\n",
    "\n",
    "Onde $W_{T-t} = \\sqrt{T-t} \\cdot \\epsilon_t$. A última equação é a solução exata desta EDE e poderia ser utilizada na simulação. Porém, em aplicações reais muitas vezes a equação estocástica pode não ter uma solução explícita ou podemos ter dificuldade em determinar os parâmetros do modelo ou a distribuição de $W_{t}$. Assim, muitas vezes recorre-se ao método de Euler para discretizar o processo. Neste caso, o método é da forma:\n",
    "\n",
    "\\begin{equation}\n",
    "    \\begin{aligned}\n",
    "    \\hat{X}_{t_i} = b(t, \\hat{X}_{t_i}) \\cdot h_i + \\sigma(t_i, \\hat{X}_{t_i}) \\cdot \\sqrt{h_i} \\cdot \\epsilon_i\\\\\n",
    "    \\left\\{\\begin{matrix}\n",
    "        b(t, \\hat{X}_{t_i}) &= \\mu S_{t_{i}}\\\\ \n",
    "        \\sigma(t_i, \\hat{X}_{t_i}) &= \\sigma S_{t_{i}}\\\\ \n",
    "        h_i &= t_{i+1} - t_i\n",
    "    \\end{matrix}\\right.\n",
    "    \\end{aligned}\n",
    "\\end{equation}\n",
    "\n",
    "Sendo que $\\epsilon$ é uma variável aleatória com distribuição normal padrão. Isso é tudo que preciso para simulação. Abaixo, plotei 5 simulações utilizando cada um dos métodos acima:"
   ]
  },
  {
   "cell_type": "code",
   "execution_count": 5,
   "metadata": {
    "collapsed": true
   },
   "outputs": [],
   "source": [
    "import numpy as np"
   ]
  },
  {
   "cell_type": "code",
   "execution_count": 117,
   "metadata": {
    "collapsed": true
   },
   "outputs": [],
   "source": [
    "class StochasticProcess(object):\n",
    "    '''\n",
    "    A general representation of a Stochastic Process\n",
    "    '''\n",
    "    def __init__(self, f_sigma, f_time, f_steps, b_random_state = True):\n",
    "        '''\n",
    "        Initialize a StochasticProcess object. Save all parameters as attributes\n",
    "        '''\n",
    "        self._f_sigma = 0\n",
    "        # guarda parametros\n",
    "        self.f_sigma = f_sigma\n",
    "        self.f_time = f_time\n",
    "        self.f_steps = f_steps\n",
    "        self.b_random_state = b_random_state\n",
    "        # checa se seta um seed para o random state\n",
    "        if not b_random_state:\n",
    "            np.random.seed(0)\n",
    "    \n",
    "    @property\n",
    "    def f_sigma(self):\n",
    "        '''\n",
    "        Return the variance of the process\n",
    "        '''\n",
    "        return self._f_sigma\n",
    "    \n",
    "    @f_sigma.setter\n",
    "    def f_sigma(self, f_value):\n",
    "        '''\n",
    "        set the f_sigma attribute. ensure that the number is positive\n",
    "        :param f_value: float. A non negative float number\n",
    "        '''\n",
    "        # TODO: I need to check this property\n",
    "        assert f_value>=0., u\"A volatilidade deve ser positiva\"\n",
    "        self._f_sigma = f_value\n",
    "        \n",
    "    def _random_number(self):\n",
    "        '''\n",
    "        Return a float drown from a distribution\n",
    "        and standard deviation 1\n",
    "        '''\n",
    "        raise NotImplementedError()\n",
    "    \n",
    "    def __call__(self):\n",
    "        '''\n",
    "        Return a random drow from the Stochastic Process\n",
    "        '''\n",
    "        raise NotImplementedError()\n",
    "    "
   ]
  },
  {
   "cell_type": "code",
   "execution_count": 118,
   "metadata": {
    "collapsed": true
   },
   "outputs": [],
   "source": [
    "import numpy as np\n",
    "import math\n",
    "\n",
    "class WienerProcess(StochasticProcess):\n",
    "    '''\n",
    "    A representation of a Wiener process, also called Brownian motion.\n",
    "    '''\n",
    "    def __init__(self, f_sigma, f_time, f_steps, b_random_state = True):\n",
    "        '''\n",
    "        Initialize a WienerProcess object. Save all parameters as attributes\n",
    "        :param f_sigma: float. The standard deviation of ALL distribution\n",
    "        :param f_time: float. the time at each step, in years\n",
    "        :param f_steps: float. number of steps to simulate for\n",
    "        :*param f_random_state: float. Random state to be used to reproduciability\n",
    "        '''\n",
    "        super(WienerProcess, self).__init__(f_sigma, f_time, f_steps, b_random_state = True)\n",
    "    \n",
    "    def _random_number(self):\n",
    "        '''\n",
    "        Return a float of drown from a normal distribution with mean 0 and standard\n",
    "        deviation 1\n",
    "        '''\n",
    "        return np.random.standard_normal()\n",
    "    \n",
    "    def __call__(self):\n",
    "        '''\n",
    "        Return a random drow from the Wiener process with mean 0 and variance t\n",
    "        '''\n",
    "        delta_t = self.f_time/self.f_steps\n",
    "        sqrt_delta_sigma = math.sqrt(delta_t) * self.f_sigma\n",
    "        return sqrt_delta_sigma * self._random_number()"
   ]
  },
  {
   "cell_type": "code",
   "execution_count": 323,
   "metadata": {
    "collapsed": false
   },
   "outputs": [],
   "source": [
    "class GBM_Exact_Solution(StochasticProcess):\n",
    "    '''\n",
    "    A representation of a Geometric Brownian Motion (GBM). Besides de variance,\n",
    "    this process might present a drift\n",
    "    '''\n",
    "    def __init__(self, f_s0, f_mu, f_sigma, f_time, f_steps, b_random_state = True):\n",
    "        '''\n",
    "        Initialize a GBM_Exact_Solution object. Save all parameters as attributes\n",
    "        :param f_s0: float. The initial price of the process\n",
    "        :param f_mu: float. the average return of the process\n",
    "        :param f_sigma: float. The standard deviation of ALL distribution\n",
    "        :param f_time: float. the time at each step, in years\n",
    "        :param f_steps: float. number of steps to simulate for\n",
    "        :*param f_random_state: float. Random state to be used to reproduciability\n",
    "        '''\n",
    "        # inicia parametros\n",
    "        self._original = f_s0\n",
    "        self.f_St = f_s0\n",
    "        self.f_mu = f_mu\n",
    "        self._current_step = -1\n",
    "        super(GBM_Exact_Solution, self).__init__(f_sigma, f_time, f_steps,\n",
    "                                                      b_random_state = True)\n",
    "        # inicia o processo de winner present no BGM\n",
    "        self.wiener_process = WienerProcess(f_sigma, f_time, f_steps)\n",
    "  \n",
    "    @property\n",
    "    def current_step(self):\n",
    "        '''\n",
    "        Return the variance of the process\n",
    "        '''\n",
    "        return self._current_step\n",
    "    \n",
    "    @current_step.setter\n",
    "    def current_step(self, i_value):\n",
    "        '''\n",
    "        set the current_step attribute. ensure that the current step is\n",
    "        not greater than the total steps defined to the process\n",
    "        :param i_value: integer. A increment step to the current path\n",
    "        '''\n",
    "        self._current_step = i_value\n",
    "        if self._current_step > self.f_steps:\n",
    "            self._current_step = 0\n",
    "            self.f_St = self._original\n",
    "        \n",
    "        \n",
    "    def __call__(self):\n",
    "        '''\n",
    "        Return a PRICE selected from a specif path randomly generated by a\n",
    "        Geometric Brownian Motion\n",
    "        '''\n",
    "        # seta a quantidade de passos ja dados por esse processo\n",
    "        # se for maior que limite, retorna para estado inicial e\n",
    "        # comeca novamente\n",
    "        self.current_step += 1\n",
    "        print self.current_step, self.f_St\n",
    "        \n",
    "        if self.current_step == 0:\n",
    "            return self.f_St\n",
    "        # calcula preco pelo movimento browniano geometrico\n",
    "        dt = self.f_time/self.f_steps\n",
    "        sigma_pow_mu_delta = (self.f_mu - 0.5 * self.f_sigma**2.0) * dt\n",
    "        f_log_rtn = sigma_pow_mu_delta + self.wiener_process()\n",
    "        f_rtn = numpy.exp(f_log_rtn)\n",
    "        self.f_St *= f_rtn\n",
    "        return self.f_St"
   ]
  },
  {
   "cell_type": "code",
   "execution_count": 324,
   "metadata": {
    "collapsed": false
   },
   "outputs": [],
   "source": [
    "gbm = GBM_Exact_Solution(f_s0=10.,\n",
    "                         f_mu=0.12,\n",
    "                         f_sigma=0.15,\n",
    "                         f_time=0.5,\n",
    "                         f_steps=10.)"
   ]
  },
  {
   "cell_type": "code",
   "execution_count": 325,
   "metadata": {
    "collapsed": false
   },
   "outputs": [
    {
     "name": "stdout",
     "output_type": "stream",
     "text": [
      "0 10.0\n",
      "1 10.0\n",
      "2 9.62197587731\n",
      "3 9.05225597546\n",
      "4 8.78843773127\n",
      "5 8.84747931655\n",
      "6 8.85304541401\n",
      "7 9.19331094941\n",
      "8 9.2716481398\n",
      "9 9.43919712175\n",
      "10 9.29519351318\n",
      "0 10.0\n",
      "1 10.0\n",
      "2 9.66305255588\n",
      "3 10.0037747661\n",
      "4 9.49806557656\n",
      "5 9.64210539592\n",
      "6 10.1921793902\n",
      "7 10.1931002418\n",
      "8 10.0896720653\n",
      "9 9.71465850045\n",
      "10 9.76206541607\n",
      "0 10.0\n",
      "1 10.0\n",
      "2 10.3410395636\n",
      "3 9.98199793716\n",
      "4 10.4149539728\n",
      "5 9.93403082545\n",
      "6 10.0133121745\n",
      "7 9.84607242983\n",
      "8 10.1683326888\n",
      "9 10.7515552227\n",
      "10 10.364684316\n",
      "0 10.0\n",
      "1 10.0\n",
      "2 9.83049542638\n",
      "3 9.59289464583\n",
      "4 9.95399904171\n",
      "5 10.0588149625\n",
      "6 10.2534500124\n"
     ]
    }
   ],
   "source": [
    "l = []\n",
    "l_aux = []\n",
    "i_nsiml = 3\n",
    "for i in xrange(int(gbm.f_steps * (1 + i_nsiml))):\n",
    "    if gbm.current_step==1:\n",
    "        l.append(l_aux)\n",
    "        l_aux = []\n",
    "    l_aux.append(gbm())\n",
    "l.append(l_aux)"
   ]
  },
  {
   "cell_type": "code",
   "execution_count": 320,
   "metadata": {
    "collapsed": false
   },
   "outputs": [
    {
     "data": {
      "text/plain": [
       "[10.0, 9.7235305400171104]"
      ]
     },
     "execution_count": 320,
     "metadata": {},
     "output_type": "execute_result"
    }
   ],
   "source": [
    "l[0]"
   ]
  },
  {
   "cell_type": "code",
   "execution_count": 322,
   "metadata": {
    "collapsed": false
   },
   "outputs": [
    {
     "data": {
      "text/plain": [
       "[9.9863687219375965,\n",
       " 9.7758850225756539,\n",
       " 9.6091791104292934,\n",
       " 9.6999415492218688,\n",
       " 10.357417029999821,\n",
       " 10.643948494967557,\n",
       " 10.434635376574317,\n",
       " 10.527422782113435,\n",
       " 11.082341623978905,\n",
       " 10.0,\n",
       " 10.33631578916272]"
      ]
     },
     "execution_count": 322,
     "metadata": {},
     "output_type": "execute_result"
    }
   ],
   "source": [
    "l[2]"
   ]
  },
  {
   "cell_type": "code",
   "execution_count": null,
   "metadata": {
    "collapsed": true
   },
   "outputs": [],
   "source": []
  },
  {
   "cell_type": "code",
   "execution_count": null,
   "metadata": {
    "collapsed": true
   },
   "outputs": [],
   "source": []
  },
  {
   "cell_type": "code",
   "execution_count": null,
   "metadata": {
    "collapsed": true
   },
   "outputs": [],
   "source": []
  },
  {
   "cell_type": "code",
   "execution_count": null,
   "metadata": {
    "collapsed": true
   },
   "outputs": [],
   "source": []
  },
  {
   "cell_type": "code",
   "execution_count": 176,
   "metadata": {
    "collapsed": false
   },
   "outputs": [
    {
     "data": {
      "text/plain": [
       "<matplotlib.axes._subplots.AxesSubplot at 0x7f96098d6190>"
      ]
     },
     "execution_count": 176,
     "metadata": {},
     "output_type": "execute_result"
    },
    {
     "data": {
      "image/png": "[encoded data removed]",
      "text/plain": [
       "<matplotlib.figure.Figure at 0x7f96099f8890>"
      ]
     },
     "metadata": {},
     "output_type": "display_data"
    }
   ],
   "source": [
    "pd.Series(l).plot()"
   ]
  },
  {
   "cell_type": "code",
   "execution_count": null,
   "metadata": {
    "collapsed": true
   },
   "outputs": [],
   "source": []
  },
  {
   "cell_type": "code",
   "execution_count": null,
   "metadata": {
    "collapsed": true
   },
   "outputs": [],
   "source": []
  },
  {
   "cell_type": "code",
   "execution_count": null,
   "metadata": {
    "collapsed": true
   },
   "outputs": [],
   "source": []
  },
  {
   "cell_type": "code",
   "execution_count": null,
   "metadata": {
    "collapsed": true
   },
   "outputs": [],
   "source": []
  },
  {
   "cell_type": "code",
   "execution_count": null,
   "metadata": {
    "collapsed": false
   },
   "outputs": [],
   "source": []
  },
  {
   "cell_type": "code",
   "execution_count": null,
   "metadata": {
    "collapsed": true
   },
   "outputs": [],
   "source": [
    "def geometric_brownian_motion(f_init_price, f_mu, f_sigma, f_delta_time, f_steps):\n",
    "    \"\"\"\n",
    "    This method constructs a sequence of prices that follows a random Geometric Brownian\n",
    "    Motion (GBM)\n",
    "    :param f_init_price: float. The initial price of the process\n",
    "    :param f_mu: float. The drift of the process\n",
    "    :param f_sigma: float. The standard deviation of the distribution\n",
    "    :param f_delta_time: float. the time at each step in years\n",
    "    :param f_steps: float. number of steps to simulate for\n",
    "    :return: returns the log returns of a geometric brownian motion process\n",
    "    \"\"\"\n",
    "    # calcula os retornos em escala logaritmica\n",
    "    dt = f_delta_time/f_steps\n",
    "    wiener_devel = wiener_process(f_sigma, f_delta_time, f_steps)\n",
    "    sigma_pow_mu_delta = (f_mu - 0.5 * math.pow(f_sigma, 2.0)) * dt\n",
    "    log_returns = sigma_pow_mu_delta + wiener_devel\n",
    "    returns = numpy.exp(log_returns)\n",
    "    # A sequencia de precos, comecando em S_o\n",
    "    price_sequence = [f_init_price]\n",
    "    for i in range(1, len(returns)):\n",
    "        # aplica o retorno atual no preco anterior\n",
    "        price_sequence.append(price_sequence[i - 1] * returns[i])\n",
    "    return numpy.array(price_sequence)   "
   ]
  },
  {
   "cell_type": "code",
   "execution_count": null,
   "metadata": {
    "collapsed": true
   },
   "outputs": [],
   "source": []
  },
  {
   "cell_type": "code",
   "execution_count": null,
   "metadata": {
    "collapsed": true
   },
   "outputs": [],
   "source": []
  },
  {
   "cell_type": "code",
   "execution_count": null,
   "metadata": {
    "collapsed": true
   },
   "outputs": [],
   "source": []
  },
  {
   "cell_type": "code",
   "execution_count": null,
   "metadata": {
    "collapsed": true
   },
   "outputs": [],
   "source": []
  },
  {
   "cell_type": "code",
   "execution_count": 103,
   "metadata": {
    "collapsed": false
   },
   "outputs": [],
   "source": [
    "winner = WienerProcess(f_sigma=0.12,\n",
    "                       f_time=0.5,\n",
    "                       f_steps=15.)"
   ]
  },
  {
   "cell_type": "code",
   "execution_count": 121,
   "metadata": {
    "collapsed": false
   },
   "outputs": [
    {
     "name": "stdout",
     "output_type": "stream",
     "text": [
      "100 loops, best of 3: 7.92 ms per loop\n"
     ]
    }
   ],
   "source": [
    "def foo(winner):\n",
    "    '''\n",
    "    Test the function passed\n",
    "    '''\n",
    "    l = []\n",
    "    for idx in xrange(5000):\n",
    "        l.append(winner())\n",
    "    return l\n",
    "\n",
    "winner = WienerProcess(f_sigma=0.12,\n",
    "                       f_time=0.5,\n",
    "                       f_steps=15.)\n",
    "%timeit l = foo(winner)"
   ]
  },
  {
   "cell_type": "code",
   "execution_count": 124,
   "metadata": {
    "collapsed": false
   },
   "outputs": [
    {
     "data": {
      "image/png": "[encoded data removed]",
      "text/plain": [
       "<matplotlib.figure.Figure at 0x7f9609e0f410>"
      ]
     },
     "metadata": {},
     "output_type": "display_data"
    }
   ],
   "source": [
    "winner = WienerProcess(f_sigma=0.12,\n",
    "                       f_time=0.5,\n",
    "                       f_steps=15.)\n",
    "l = foo(winner)\n",
    "ax = pd.Series(l).hist(bins=15);"
   ]
  },
  {
   "cell_type": "code",
   "execution_count": 125,
   "metadata": {
    "collapsed": false
   },
   "outputs": [
    {
     "data": {
      "image/png": "[encoded data removed]",
      "text/plain": [
       "<matplotlib.figure.Figure at 0x7f9609a16d90>"
      ]
     },
     "metadata": {},
     "output_type": "display_data"
    }
   ],
   "source": [
    "winner = WienerProcess(f_sigma=0.0,\n",
    "                       f_time=0.5,\n",
    "                       f_steps=15.)\n",
    "l = foo(winner)\n",
    "ax = pd.Series(l).hist(bins=15);"
   ]
  },
  {
   "cell_type": "code",
   "execution_count": null,
   "metadata": {
    "collapsed": true
   },
   "outputs": [],
   "source": []
  },
  {
   "cell_type": "code",
   "execution_count": null,
   "metadata": {
    "collapsed": true
   },
   "outputs": [],
   "source": []
  },
  {
   "cell_type": "code",
   "execution_count": null,
   "metadata": {
    "collapsed": true
   },
   "outputs": [],
   "source": []
  },
  {
   "cell_type": "code",
   "execution_count": null,
   "metadata": {
    "collapsed": true
   },
   "outputs": [],
   "source": []
  },
  {
   "cell_type": "code",
   "execution_count": null,
   "metadata": {
    "collapsed": true
   },
   "outputs": [],
   "source": []
  },
  {
   "cell_type": "code",
   "execution_count": null,
   "metadata": {
    "collapsed": true
   },
   "outputs": [],
   "source": []
  },
  {
   "cell_type": "code",
   "execution_count": 3,
   "metadata": {
    "collapsed": false
   },
   "outputs": [],
   "source": [
    "import math\n",
    "import numpy\n",
    "import random\n",
    "import decimal\n",
    "import scipy.linalg\n",
    "import numpy\n",
    "import numpy.random as nrand\n",
    "import pandas as pd\n",
    "\n",
    "def wiener_process(f_sigma, f_delta_time, f_steps):\n",
    "    \"\"\"\n",
    "    This method returns a Wiener process. The Wiener process is also called Brownian motion.\n",
    "    :param f_sigma: float. The standard deviation of the distribution\n",
    "    :param f_delta_time: float. the time at each step in years\n",
    "    :param f_steps: float. number of steps to simulate for\n",
    "    :return: numpy array. brownian motion log returns\n",
    "    \"\"\"\n",
    "    dt = f_delta_time/f_steps\n",
    "    sqrt_delta_sigma = math.sqrt(dt) * f_sigma\n",
    "    return numpy.array(nrand.normal(loc=0, scale=sqrt_delta_sigma, size=int(f_steps)))\n",
    "\n"
   ]
  },
  {
   "cell_type": "code",
   "execution_count": 28,
   "metadata": {
    "collapsed": true
   },
   "outputs": [],
   "source": [
    "def geometric_brownian_motion(f_init_price, f_mu, f_sigma, f_delta_time, f_steps):\n",
    "    \"\"\"\n",
    "    This method constructs a sequence of prices that follows a random Geometric Brownian\n",
    "    Motion (GBM)\n",
    "    :param f_init_price: float. The initial price of the process\n",
    "    :param f_mu: float. The drift of the process\n",
    "    :param f_sigma: float. The standard deviation of the distribution\n",
    "    :param f_delta_time: float. the time at each step in years\n",
    "    :param f_steps: float. number of steps to simulate for\n",
    "    :return: returns the log returns of a geometric brownian motion process\n",
    "    \"\"\"\n",
    "    # calcula os retornos em escala logaritmica\n",
    "    dt = f_delta_time/f_steps\n",
    "    wiener_devel = wiener_process(f_sigma, f_delta_time, f_steps)\n",
    "    sigma_pow_mu_delta = (f_mu - 0.5 * math.pow(f_sigma, 2.0)) * dt\n",
    "    log_returns = sigma_pow_mu_delta + wiener_devel\n",
    "    returns = numpy.exp(log_returns)\n",
    "    # A sequencia de precos, comecando em S_o\n",
    "    price_sequence = [f_init_price]\n",
    "    for i in range(1, len(returns)):\n",
    "        # aplica o retorno atual no preco anterior\n",
    "        price_sequence.append(price_sequence[i - 1] * returns[i])\n",
    "    return numpy.array(price_sequence)    \n"
   ]
  },
  {
   "cell_type": "code",
   "execution_count": 29,
   "metadata": {
    "collapsed": false
   },
   "outputs": [],
   "source": [
    "l = []\n",
    "for i in range(5):\n",
    "    l.append(geometric_brownian_motion(10., 2., 0.15, 0.5, 5))"
   ]
  },
  {
   "cell_type": "code",
   "execution_count": 30,
   "metadata": {
    "collapsed": true
   },
   "outputs": [],
   "source": [
    "df = pd.DataFrame(l).T"
   ]
  },
  {
   "cell_type": "code",
   "execution_count": 31,
   "metadata": {
    "collapsed": false
   },
   "outputs": [
    {
     "data": {
      "text/plain": [
       "<matplotlib.axes._subplots.AxesSubplot at 0x1151d5f50>"
      ]
     },
     "execution_count": 31,
     "metadata": {},
     "output_type": "execute_result"
    },
    {
     "data": {
      "image/png": "[encoded data removed]",
      "text/plain": [
       "<matplotlib.figure.Figure at 0x115658450>"
      ]
     },
     "metadata": {},
     "output_type": "display_data"
    }
   ],
   "source": [
    "df.plot()"
   ]
  },
  {
   "cell_type": "code",
   "execution_count": null,
   "metadata": {
    "collapsed": true
   },
   "outputs": [],
   "source": []
  },
  {
   "cell_type": "code",
   "execution_count": null,
   "metadata": {
    "collapsed": true
   },
   "outputs": [],
   "source": []
  },
  {
   "cell_type": "markdown",
   "metadata": {
    "collapsed": true
   },
   "source": [
    "Sim, eu sei, por que perdi tanto tempo com a demonstração acima? Vou utilizá-la em seguida.\n",
    "\n",
    "### 2.2. Solução Analítica para as Opções Dadas\n",
    "...\n",
    "\n",
    "\n"
   ]
  },
  {
   "cell_type": "code",
   "execution_count": null,
   "metadata": {
    "collapsed": true
   },
   "outputs": [],
   "source": []
  },
  {
   "cell_type": "code",
   "execution_count": null,
   "metadata": {
    "collapsed": true
   },
   "outputs": [],
   "source": []
  },
  {
   "cell_type": "code",
   "execution_count": null,
   "metadata": {
    "collapsed": true
   },
   "outputs": [],
   "source": []
  },
  {
   "cell_type": "code",
   "execution_count": null,
   "metadata": {
    "collapsed": true
   },
   "outputs": [],
   "source": []
  },
  {
   "cell_type": "code",
   "execution_count": null,
   "metadata": {
    "collapsed": true
   },
   "outputs": [],
   "source": []
  },
  {
   "cell_type": "code",
   "execution_count": null,
   "metadata": {
    "collapsed": true
   },
   "outputs": [],
   "source": []
  },
  {
   "cell_type": "markdown",
   "metadata": {},
   "source": [
    "## 3. Replicando o Portfólio"
   ]
  },
  {
   "cell_type": "code",
   "execution_count": 2,
   "metadata": {
    "collapsed": false
   },
   "outputs": [],
   "source": [
    "# importa bibliotecas necessarias\n",
    "import pandas as pd\n",
    "import numpy as np\n",
    "import matplotlib.pylab as plt\n",
    "import seaborn as sns"
   ]
  },
  {
   "cell_type": "code",
   "execution_count": null,
   "metadata": {
    "collapsed": true
   },
   "outputs": [],
   "source": []
  },
  {
   "cell_type": "code",
   "execution_count": null,
   "metadata": {
    "collapsed": true
   },
   "outputs": [],
   "source": []
  },
  {
   "cell_type": "code",
   "execution_count": null,
   "metadata": {
    "collapsed": true
   },
   "outputs": [],
   "source": []
  },
  {
   "cell_type": "code",
   "execution_count": null,
   "metadata": {
    "collapsed": true
   },
   "outputs": [],
   "source": []
  },
  {
   "cell_type": "code",
   "execution_count": null,
   "metadata": {
    "collapsed": true
   },
   "outputs": [],
   "source": []
  },
  {
   "cell_type": "code",
   "execution_count": null,
   "metadata": {
    "collapsed": true
   },
   "outputs": [],
   "source": []
  },
  {
   "cell_type": "markdown",
   "metadata": {},
   "source": [
    "\n",
    "## 4. Conclusão"
   ]
  },
  {
   "cell_type": "code",
   "execution_count": null,
   "metadata": {
    "collapsed": true
   },
   "outputs": [],
   "source": []
  },
  {
   "cell_type": "code",
   "execution_count": null,
   "metadata": {
    "collapsed": true
   },
   "outputs": [],
   "source": []
  },
  {
   "cell_type": "code",
   "execution_count": null,
   "metadata": {
    "collapsed": true
   },
   "outputs": [],
   "source": []
  },
  {
   "cell_type": "code",
   "execution_count": null,
   "metadata": {
    "collapsed": true
   },
   "outputs": [],
   "source": []
  },
  {
   "cell_type": "markdown",
   "metadata": {},
   "source": [
    "## 5. Reflexões"
   ]
  },
  {
   "cell_type": "code",
   "execution_count": null,
   "metadata": {
    "collapsed": true
   },
   "outputs": [],
   "source": []
  },
  {
   "cell_type": "code",
   "execution_count": null,
   "metadata": {
    "collapsed": true
   },
   "outputs": [],
   "source": []
  },
  {
   "cell_type": "code",
   "execution_count": null,
   "metadata": {
    "collapsed": true
   },
   "outputs": [],
   "source": []
  },
  {
   "cell_type": "code",
   "execution_count": null,
   "metadata": {
    "collapsed": true
   },
   "outputs": [],
   "source": []
  },
  {
   "cell_type": "code",
   "execution_count": null,
   "metadata": {
    "collapsed": true
   },
   "outputs": [],
   "source": []
  },
  {
   "cell_type": "code",
   "execution_count": null,
   "metadata": {
    "collapsed": true
   },
   "outputs": [],
   "source": []
  },
  {
   "cell_type": "markdown",
   "metadata": {},
   "source": [
    "_Style notebook and change matplotlib defaults_"
   ]
  },
  {
   "cell_type": "code",
   "execution_count": 1,
   "metadata": {
    "collapsed": false
   },
   "outputs": [
    {
     "data": {
      "text/html": [
       "<style>\n",
       "    @font-face {\n",
       "        font-family: \"Computer Modern\";\n",
       "        src: url('http://9dbb143991406a7c655e-aa5fcb0a5a4ec34cff238a2d56ca4144.r56.cf5.rackcdn.com/cmunss.otf');\n",
       "    }\n",
       "    @font-face {\n",
       "        font-family: \"Computer Modern\";\n",
       "        font-weight: bold;\n",
       "        src: url('http://9dbb143991406a7c655e-aa5fcb0a5a4ec34cff238a2d56ca4144.r56.cf5.rackcdn.com/cmunsx.otf');\n",
       "    }\n",
       "    @font-face {\n",
       "        font-family: \"Computer Modern\";\n",
       "        font-style: oblique;\n",
       "        src: url('http://9dbb143991406a7c655e-aa5fcb0a5a4ec34cff238a2d56ca4144.r56.cf5.rackcdn.com/cmunsi.otf');\n",
       "    }\n",
       "    @font-face {\n",
       "        font-family: \"Computer Modern\";\n",
       "        font-weight: bold;\n",
       "        font-style: oblique;\n",
       "        src: url('http://9dbb143991406a7c655e-aa5fcb0a5a4ec34cff238a2d56ca4144.r56.cf5.rackcdn.com/cmunso.otf');\n",
       "    }\n",
       "    div.cell{\n",
       "        width:800px;\n",
       "        margin-left:16% !important;\n",
       "        margin-right:auto;\n",
       "    }\n",
       "    h1 {\n",
       "        font-family: Helvetica, serif;\n",
       "    }\n",
       "    h4{\n",
       "        margin-top:12px;\n",
       "        margin-bottom: 3px;\n",
       "       }\n",
       "    div.text_cell_render{\n",
       "        font-family: Computer Modern, \"Helvetica Neue\", Arial, Helvetica, Geneva, sans-serif;\n",
       "        line-height: 145%;\n",
       "        font-size: 130%;\n",
       "        width:800px;\n",
       "        margin-left:auto;\n",
       "        margin-right:auto;\n",
       "    }\n",
       "    .CodeMirror{\n",
       "            font-family: \"Source Code Pro\", source-code-pro,Consolas, monospace;\n",
       "    }\n",
       "    .prompt{\n",
       "        display: None;\n",
       "    }\n",
       "    .text_cell_render h5 {\n",
       "        font-weight: 300;\n",
       "        font-size: 22pt;\n",
       "        color: #4057A1;\n",
       "        font-style: italic;\n",
       "        margin-bottom: .5em;\n",
       "        margin-top: 0.5em;\n",
       "        display: block;\n",
       "    }\n",
       "\n",
       "    .warning{\n",
       "        color: rgb( 240, 20, 20 )\n",
       "        }\n",
       "</style>\n",
       "\n",
       "\n",
       "\n",
       "<style>\n",
       "    table {\n",
       "        overflow:hidden;\n",
       "        font-family: Computer Modern, \"Helvetica Neue\", Arial, Helvetica, Geneva, sans-serif;\n",
       "        font-size: 12px;\n",
       "        margin: 10px;\n",
       "        width: 480px;\n",
       "        text-align: left;\n",
       "        border-collapse: collapse;\n",
       "        border: 1px solid #d3d3d3;\n",
       "        -moz-border-radius:5px; FF1+;\n",
       "        -webkit-border-radius:5px; Saf3-4;\n",
       "        border-radius:5px;\n",
       "        -moz-box-shadow: 0 0 4px rgba(0, 0, 0, 0.01);\n",
       "    }\n",
       "    th\n",
       "    {\n",
       "        padding: 12px 17px 12px 17px;\n",
       "        font-weight: normal;\n",
       "        font-size: 14px;\n",
       "        border-bottom: 1px dashed #69c;\n",
       "    }\n",
       "\n",
       "    td\n",
       "    {\n",
       "        padding: 7px 17px 7px 17px;\n",
       "\n",
       "    }\n",
       "\n",
       "    tbody tr:hover th\n",
       "    {\n",
       "\n",
       "        background:  #E9E9E9;\n",
       "    }\n",
       "\n",
       "    tbody tr:hover td\n",
       "    {\n",
       "\n",
       "        background:  #E9E9E9;\n",
       "    }\n",
       "\n",
       "</style>\n",
       "\n",
       "<script>\n",
       "    MathJax.Hub.Config({\n",
       "                        TeX: {\n",
       "                           extensions: [\"AMSmath.js\"]\n",
       "                           },\n",
       "                tex2jax: {\n",
       "                    inlineMath: [ ['$','$'], [\"\\\\(\",\"\\\\)\"] ],\n",
       "                    displayMath: [ ['$$','$$'], [\"\\\\[\",\"\\\\]\"] ]\n",
       "                },\n",
       "                displayAlign: 'center', // Change this to 'center' to center equations.\n",
       "                \"HTML-CSS\": {\n",
       "                    styles: {'.MathJax_Display': {\"margin\": 4}}\n",
       "                }\n",
       "        });\n",
       "</script>\n"
      ],
      "text/plain": [
       "<IPython.core.display.HTML object>"
      ]
     },
     "execution_count": 1,
     "metadata": {},
     "output_type": "execute_result"
    }
   ],
   "source": [
    "#loading style sheet\n",
    "from IPython.core.display import HTML\n",
    "HTML( open('ipython_style.css').read())"
   ]
  },
  {
   "cell_type": "code",
   "execution_count": 12,
   "metadata": {
    "collapsed": false
   },
   "outputs": [],
   "source": [
    "#changing matplotlib defaults\n",
    "%matplotlib inline\n",
    "import seaborn as sns\n",
    "sns.set_palette(\"deep\", desat=.6)\n",
    "sns.set_context(rc={\"figure.figsize\": (8, 4)})\n",
    "sns.set_style(\"whitegrid\")\n",
    "sns.set_palette(sns.color_palette(\"Set2\", 10))"
   ]
  },
  {
   "cell_type": "code",
   "execution_count": null,
   "metadata": {
    "collapsed": true
   },
   "outputs": [],
   "source": []
  }
 ],
 "metadata": {
  "kernelspec": {
   "display_name": "Python 2",
   "language": "python",
   "name": "python2"
  },
  "language_info": {
   "codemirror_mode": {
    "name": "ipython",
    "version": 2
   },
   "file_extension": ".py",
   "mimetype": "text/x-python",
   "name": "python",
   "nbconvert_exporter": "python",
   "pygments_lexer": "ipython2",
   "version": "2.7.11"
  }
 },
 "nbformat": 4,
 "nbformat_minor": 0
}
