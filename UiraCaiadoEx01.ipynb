{
 "cells": [
  {
   "cell_type": "markdown",
   "metadata": {},
   "source": [
    "# Exercício 1: Ações e Commodities\n",
    "###  Implementando Uma Estratégia Replicante \n",
    "<sub>Uirá Caiado. 11 de Maio, 2016<sub>"
   ]
  },
  {
   "cell_type": "markdown",
   "metadata": {},
   "source": [
    "#### Resumo\n",
    "\n",
    "_Neste projeto vou implementar uma estratégia de hedging dinâmico auto-financiável que replique o payoff de diferentes derivativos. Devido à natureza aleatória do ativo objeto dos contratos testados, este será modelado como um processo estocástico. Uma vez implementado o modelo, será realizada um série de simulações para estudar a efetividade da estratégia._\n",
    "\n",
    "## 1. Introdução\n",
    "\n",
    "Nesta sessão dou uma breve descrição do que é uma EDE e declaro o problema que será abordado.\n",
    "\n",
    "### 1.1. Equações Diferenciais Estocásticas\n",
    "\n",
    "Devido à incerteza inerente ao mercado financeiro, é necessário levar em conta uma flutuação aleatória nos modelos criados para descrever diferentes instrumentos. Para tanto, frequentemente assume-se o comportamento de um ativo como sendo um [processo estocático](https://en.wikipedia.org/wiki/Stochastic_process). \n",
    "\n",
    "Como bem explicado neste [post](http://math.stackexchange.com/questions/1470686/in-laymans-terms-what-is-a-stochastic-process), um processo estocástico é uma maneira de representar como alguma coisa se desenvolve ao longo do tempo. A cada unidade de tempo, o ativo pode assumir uma de muitas posições possíveis, e cada uma destas posições tem uma probabilidade associada. Ainda que não seja possível antecipar qual trajeto o ativo vai seguir, é possível inferir quais caminhos são possíveis baseado nesta dinâmica.\n",
    "\n",
    "Processos estocásticos são de grande valia quando não se sabe exatamente as regras que regem esta evolução ou quando extrair tais regras com exatidão ou é muito complicado ou muito caro computacionalmente. Assim, frequentemente se utiliza alguma fonte de aleatoriadade para ajudar a descrever a dinâmica de um ativo. Aqui entram as EDEs. \\cite{Wilmont} oferece a seguinte intuição sobre a forma geral de Equações Diferenciais Estocásticas (EDE):\n",
    "\n",
    "$$\\mathrm{d}\\, Alguma\\,Coisa = Deterministico\\,\\mathrm{d}t + Aleatório\\,\\mathrm{d}X $$\n",
    "\n",
    "\n",
    "Onde $Alguma\\,Coisa$ é o que se quer modelar (como preço de uma ação, quantidade de pessoas chegando em um hospital e etc), $Deterministico$ uma função que descreve como  $Alguma\\,Coisa$ muda quando se retira a incerteza e $Aleatório$ outra função que descreve quão incerto $Alguma\\,Coisa$ coisa é e $X$ é uma variável aleatória com distribuição Normal Padrão.\n",
    "\n",
    "### 1.1. O Problema\n",
    "\n",
    "Considerando um ativo-objeto cujo a dinâmica do preço satisfaz a seguinte EDE:\n",
    "\n",
    "$$\\frac{\\mathrm{d} S_t}{S_t}=\\mu\\cdot \\mathrm{d}t + \\sigma\\cdot \\mathrm{d}W_{t}$$\n",
    "\n",
    "Será vendido um derivativo com característica européia cujo payoff é descrito por uma função qualquer $V_T=V(T, S_T)$, onde $T$ é o vencimento do derivativo. $S_T$ é o preço do ativo-objeto em $T$ e é possível negociar qualquer quantidade dele em qualquer instante. Não há custo de transação (corretagem, emolumento, bid-ask spread, etc) e posições vendidas a descoberto no subjacente são permitidas, não havendo custos associados.\n",
    "\n",
    "Pede-se que se implemente uma estratégia dinâmica de hedging auto-financiável que replique o payoff do derivativo vendido. A estratégia replicante será rebalanceada $N$ vezes (incluíndo a carteira inicial).\n",
    "\n",
    "A simulação deve ser feita para os payoffs abaixo. $K$ é o Strike da opção.\n",
    "- $V(T, S_T)=ln(S_T)$\n",
    "- $V(T, S_T)=(ln(S_T))^2$\n",
    "- $V(T, S_T)=(S_T-K)^2$\n",
    "- $V(T, S_T)=\\mathbf{1}_{S_T > K}$\n",
    "- $V(T, S_T)=max(S_T-K, 0)$\n"
   ]
  },
  {
   "cell_type": "markdown",
   "metadata": {},
   "source": [
    "## 2. Definições\n",
    "\n",
    "Nesta sessão vou calcular a solução analítica das opções sugeridas na última sessão e discretizar o a dinâmica do ativo objeto \n",
    "\n",
    "### 2.1. Discretizando o Processo Estocástico\n",
    "\n",
    "Para realizar a simulação, implementarei o processo estocástico do ativo-objeto, que segue um Movimento Browniano Geométrico. Por tanto, será necessário encontrar a solução para a EDE proposta, que resultará no [processo desejado](https://en.wikipedia.org/wiki/Geometric_Brownian_motion). Assim, seguindo as notas de aula, tenho que\n",
    "\n",
    "\n",
    "\\begin{equation}\n",
    "    \\begin{aligned}\n",
    "    \\frac{\\mathrm{d} S_t}{S_t} &= \\mu\\cdot \\mathrm{d}t + \\sigma\\cdot \\mathrm{d}W_{t}\n",
    "    \\end{aligned}\n",
    "\\end{equation}\n",
    "\n",
    "\n",
    "Que corresponde a forma derivada da integral estocástica\n",
    "\n",
    "\n",
    "\\begin{equation}\n",
    "    \\begin{aligned}\n",
    "    \\int_{t}^{T}{\\frac{\\mathrm{d} S_t}{S_t}} &= \\int_{t}^{T}{\\mu\\cdot \\mathrm{d}t} + \\int_{t}^{T}{\\sigma\\cdot \\mathrm{d}W_{t}} \n",
    "    \\end{aligned}\n",
    "\\end{equation}\n",
    "\n",
    "\n",
    "\n",
    "Considerando o [Teorema de Ito-Doeblin](https://en.wikipedia.org/wiki/Itô%27s_lemma) (Lemma de Ito) sendo da forma\n",
    "\n",
    "\\begin{equation}\n",
    "    \\begin{aligned}\n",
    "    \\mathrm{d} f(t, S_t) = \\frac{\\mathrm{\\partial} f}{\\partial t} \\mathrm{d} t + \\frac{\\mathrm{\\partial} f}{\\partial S_t} \\mathrm{d} S_t + \\frac{1}{2} \\frac{\\mathrm{\\partial^2} f}{\\mathrm{\\partial} S_{t}^{2}} (\\mathrm{d} S_t)^2\n",
    "    \\end{aligned}\n",
    "\\end{equation}\n",
    "\n",
    "Se definir uma função $f(S_t) = ln(S_t)$, posso aplicar o Lema de Ito sobre ela. Considerando que $(\\mathrm{d} t)^2 = \\mathrm{d} t \\cdot \\mathrm{d} X = 0$, tenho que $(\\mathrm{d} S_t)^2 = \\sigma^2  \\cdot S_{t}^{2} \\cdot \\mathrm{d} t$. Também, como não há termos dependentes de $t$ em $f$, não precisarei do termo relacionado a $\\mathrm{d} t$. Assim:\n",
    "\n",
    "\\begin{equation}\n",
    "    \\begin{aligned}\n",
    "    \\mathrm{d} f(t, S_t) &= \\frac{\\mathrm{\\partial} f}{\\partial S_t} \\mathrm{d} S_t + \\frac{1}{2} \\frac{\\mathrm{\\partial^2} f}{\\mathrm{\\partial} S_{t}^{2}} (\\mathrm{d} S_t)^2 \\\\\n",
    "    &= \\frac{1}{S_t} \\cdot \\mathrm{d} S_t - \\frac{\\sigma^2}{2} \\cdot S_{t}^{2} \\cdot \\frac{1}{S_{t}^{2}} \\cdot  \\mathrm{d} t \n",
    "    \\end{aligned}\n",
    "\\end{equation}\n",
    "\n",
    "Integrando dos instantes $t$ até $T$, obtenho:\n",
    "\n",
    "\\begin{equation}\n",
    "    \\begin{aligned}\n",
    "    \\int_{t}^{T} \\mathrm{d} f(t, S_t) &= \\int_{t}^{T} \\frac{1}{S_t} \\cdot \\mathrm{d} S_t - \\int_{t}^{T} \\frac{\\sigma^2}{2} \\cdot \\mathrm{d} t \\\\\n",
    "    \\int_{t}^{T} \\frac{\\mathrm{d} S_t}{S_t} &= \\int_{t}^{T} \\mathrm{d} f(t, S_t) + \\int_{t}^{T} \\frac{\\sigma^2}{2} \\cdot \\mathrm{d} t \\\\\n",
    "    &= f(S_T) - f(S_t) + \\frac{\\sigma^2}{2} \\cdot (T - t) \\\\\n",
    "    &= ln(S_T) - ln(S_t) + \\frac{\\sigma^2}{2} \\cdot (T - t) \\\\\n",
    "    &= ln(S_T/S_t) + \\frac{\\sigma^2}{2} \\cdot (T - t)\n",
    "    \\end{aligned}\n",
    "\\end{equation}\n",
    "\n",
    "Logo, substituíndo este resultado na integral estocástica da dinâmica da ação, chego que:\n",
    "\n",
    "\\begin{equation}\n",
    "    \\begin{aligned}\n",
    "    ln(S_T/S_t) + \\frac{\\sigma^2}{2} \\cdot (T - t) &= \\int_{t}^{T}{\\mu\\cdot \\mathrm{d}t} + \\int_{t}^{T}{\\sigma\\cdot \\mathrm{d}W_{t}} \\\\\n",
    "     ln(S_T/S_t) + \\frac{\\sigma^2}{2} \\cdot (T - t) &= \\mu\\cdot (T - t) + \\sigma \\cdot (W_{T} - W_{t})\n",
    "    \\end{aligned}\n",
    "\\end{equation}\n",
    "\n",
    "Por fim, lembrando que o $W_t$ é um processo de Winer e possui incrementos independentes, estacionários e distribuição $N(0, t)$ por definição, posso considerar que $W_t - W_s = W_{t-s}$. Assim:\n",
    "\n",
    "\\begin{equation}\n",
    "    \\begin{aligned}\n",
    "     ln(S_T/S_t) + \\frac{\\sigma^2}{2} \\cdot (T - t) &= \\mu\\cdot (T - t) + \\sigma \\cdot W_{T-t} \\\\\n",
    "     ln(S_T/S_t) &= \\left (\\mu - \\frac{\\sigma^2}{2}\\right ) \\cdot (T - t) + \\sigma \\cdot W_{T-t} \\\\\n",
    "     S_T &= S_t \\cdot e^{ \\left (\\mu - \\frac{\\sigma^2}{2}\\right ) \\cdot (T - t) + \\sigma \\cdot W_{T-t}}\n",
    "    \\end{aligned}\n",
    "\\end{equation}\n",
    "\n",
    "\n",
    "Onde $W_{T-t} =  \\epsilon_t \\cdot \\sqrt{T-t} $, sendo $\\epsilon$ uma variável aleatório com distribuição normal padrão. Esta última forma __discretizada__ de $S_T$ é a que utilizarei na simulação. Esta solução também poderia ter sido encontrada pelo [método de Euler](http://www.columbia.edu/~mh2078/MCS04/MCS_SDEs.pdf).\n",
    "\n",
    "### 2.2. Solução Analítica para as Opções Dadas\n",
    "...\n",
    "\n"
   ]
  },
  {
   "cell_type": "code",
   "execution_count": null,
   "metadata": {
    "collapsed": true
   },
   "outputs": [],
   "source": []
  },
  {
   "cell_type": "code",
   "execution_count": null,
   "metadata": {
    "collapsed": true
   },
   "outputs": [],
   "source": []
  },
  {
   "cell_type": "code",
   "execution_count": null,
   "metadata": {
    "collapsed": true
   },
   "outputs": [],
   "source": []
  },
  {
   "cell_type": "code",
   "execution_count": null,
   "metadata": {
    "collapsed": true
   },
   "outputs": [],
   "source": []
  },
  {
   "cell_type": "code",
   "execution_count": null,
   "metadata": {
    "collapsed": true
   },
   "outputs": [],
   "source": []
  },
  {
   "cell_type": "code",
   "execution_count": null,
   "metadata": {
    "collapsed": true
   },
   "outputs": [],
   "source": []
  },
  {
   "cell_type": "code",
   "execution_count": null,
   "metadata": {
    "collapsed": true
   },
   "outputs": [],
   "source": []
  },
  {
   "cell_type": "markdown",
   "metadata": {},
   "source": [
    "## 3. Replicando o Portfólio"
   ]
  },
  {
   "cell_type": "code",
   "execution_count": 2,
   "metadata": {
    "collapsed": false
   },
   "outputs": [],
   "source": [
    "# importa bibliotecas necessarias\n",
    "import pandas as pd\n",
    "import numpy as np\n",
    "import matplotlib.pylab as plt\n",
    "import seaborn as sns"
   ]
  },
  {
   "cell_type": "code",
   "execution_count": null,
   "metadata": {
    "collapsed": true
   },
   "outputs": [],
   "source": []
  },
  {
   "cell_type": "code",
   "execution_count": null,
   "metadata": {
    "collapsed": true
   },
   "outputs": [],
   "source": []
  },
  {
   "cell_type": "code",
   "execution_count": null,
   "metadata": {
    "collapsed": true
   },
   "outputs": [],
   "source": []
  },
  {
   "cell_type": "code",
   "execution_count": null,
   "metadata": {
    "collapsed": true
   },
   "outputs": [],
   "source": []
  },
  {
   "cell_type": "code",
   "execution_count": null,
   "metadata": {
    "collapsed": true
   },
   "outputs": [],
   "source": []
  },
  {
   "cell_type": "code",
   "execution_count": null,
   "metadata": {
    "collapsed": true
   },
   "outputs": [],
   "source": []
  },
  {
   "cell_type": "markdown",
   "metadata": {},
   "source": [
    "\n",
    "## 4. Conclusão"
   ]
  },
  {
   "cell_type": "code",
   "execution_count": null,
   "metadata": {
    "collapsed": true
   },
   "outputs": [],
   "source": []
  },
  {
   "cell_type": "code",
   "execution_count": null,
   "metadata": {
    "collapsed": true
   },
   "outputs": [],
   "source": []
  },
  {
   "cell_type": "code",
   "execution_count": null,
   "metadata": {
    "collapsed": true
   },
   "outputs": [],
   "source": []
  },
  {
   "cell_type": "code",
   "execution_count": null,
   "metadata": {
    "collapsed": true
   },
   "outputs": [],
   "source": []
  },
  {
   "cell_type": "markdown",
   "metadata": {},
   "source": [
    "## 5. Reflexões"
   ]
  },
  {
   "cell_type": "code",
   "execution_count": null,
   "metadata": {
    "collapsed": true
   },
   "outputs": [],
   "source": []
  },
  {
   "cell_type": "code",
   "execution_count": null,
   "metadata": {
    "collapsed": true
   },
   "outputs": [],
   "source": []
  },
  {
   "cell_type": "code",
   "execution_count": null,
   "metadata": {
    "collapsed": true
   },
   "outputs": [],
   "source": []
  },
  {
   "cell_type": "code",
   "execution_count": null,
   "metadata": {
    "collapsed": true
   },
   "outputs": [],
   "source": []
  },
  {
   "cell_type": "code",
   "execution_count": null,
   "metadata": {
    "collapsed": true
   },
   "outputs": [],
   "source": []
  },
  {
   "cell_type": "code",
   "execution_count": null,
   "metadata": {
    "collapsed": true
   },
   "outputs": [],
   "source": []
  },
  {
   "cell_type": "markdown",
   "metadata": {},
   "source": [
    "_Style notebook and change matplotlib defaults_"
   ]
  },
  {
   "cell_type": "code",
   "execution_count": 3,
   "metadata": {
    "collapsed": false
   },
   "outputs": [
    {
     "data": {
      "text/html": [
       "<style>\n",
       "    @font-face {\n",
       "        font-family: \"Computer Modern\";\n",
       "        src: url('http://9dbb143991406a7c655e-aa5fcb0a5a4ec34cff238a2d56ca4144.r56.cf5.rackcdn.com/cmunss.otf');\n",
       "    }\n",
       "    @font-face {\n",
       "        font-family: \"Computer Modern\";\n",
       "        font-weight: bold;\n",
       "        src: url('http://9dbb143991406a7c655e-aa5fcb0a5a4ec34cff238a2d56ca4144.r56.cf5.rackcdn.com/cmunsx.otf');\n",
       "    }\n",
       "    @font-face {\n",
       "        font-family: \"Computer Modern\";\n",
       "        font-style: oblique;\n",
       "        src: url('http://9dbb143991406a7c655e-aa5fcb0a5a4ec34cff238a2d56ca4144.r56.cf5.rackcdn.com/cmunsi.otf');\n",
       "    }\n",
       "    @font-face {\n",
       "        font-family: \"Computer Modern\";\n",
       "        font-weight: bold;\n",
       "        font-style: oblique;\n",
       "        src: url('http://9dbb143991406a7c655e-aa5fcb0a5a4ec34cff238a2d56ca4144.r56.cf5.rackcdn.com/cmunso.otf');\n",
       "    }\n",
       "    div.cell{\n",
       "        width:800px;\n",
       "        margin-left:16% !important;\n",
       "        margin-right:auto;\n",
       "    }\n",
       "    h1 {\n",
       "        font-family: Helvetica, serif;\n",
       "    }\n",
       "    h4{\n",
       "        margin-top:12px;\n",
       "        margin-bottom: 3px;\n",
       "       }\n",
       "    div.text_cell_render{\n",
       "        font-family: Computer Modern, \"Helvetica Neue\", Arial, Helvetica, Geneva, sans-serif;\n",
       "        line-height: 145%;\n",
       "        font-size: 130%;\n",
       "        width:800px;\n",
       "        margin-left:auto;\n",
       "        margin-right:auto;\n",
       "    }\n",
       "    .CodeMirror{\n",
       "            font-family: \"Source Code Pro\", source-code-pro,Consolas, monospace;\n",
       "    }\n",
       "    .prompt{\n",
       "        display: None;\n",
       "    }\n",
       "    .text_cell_render h5 {\n",
       "        font-weight: 300;\n",
       "        font-size: 22pt;\n",
       "        color: #4057A1;\n",
       "        font-style: italic;\n",
       "        margin-bottom: .5em;\n",
       "        margin-top: 0.5em;\n",
       "        display: block;\n",
       "    }\n",
       "\n",
       "    .warning{\n",
       "        color: rgb( 240, 20, 20 )\n",
       "        }\n",
       "</style>\n",
       "\n",
       "\n",
       "\n",
       "<style>\n",
       "    table {\n",
       "        overflow:hidden;\n",
       "        font-family: Computer Modern, \"Helvetica Neue\", Arial, Helvetica, Geneva, sans-serif;\n",
       "        font-size: 12px;\n",
       "        margin: 10px;\n",
       "        width: 480px;\n",
       "        text-align: left;\n",
       "        border-collapse: collapse;\n",
       "        border: 1px solid #d3d3d3;\n",
       "        -moz-border-radius:5px; FF1+;\n",
       "        -webkit-border-radius:5px; Saf3-4;\n",
       "        border-radius:5px;\n",
       "        -moz-box-shadow: 0 0 4px rgba(0, 0, 0, 0.01);\n",
       "    }\n",
       "    th\n",
       "    {\n",
       "        padding: 12px 17px 12px 17px;\n",
       "        font-weight: normal;\n",
       "        font-size: 14px;\n",
       "        border-bottom: 1px dashed #69c;\n",
       "    }\n",
       "\n",
       "    td\n",
       "    {\n",
       "        padding: 7px 17px 7px 17px;\n",
       "\n",
       "    }\n",
       "\n",
       "    tbody tr:hover th\n",
       "    {\n",
       "\n",
       "        background:  #E9E9E9;\n",
       "    }\n",
       "\n",
       "    tbody tr:hover td\n",
       "    {\n",
       "\n",
       "        background:  #E9E9E9;\n",
       "    }\n",
       "\n",
       "</style>\n",
       "\n",
       "<script>\n",
       "    MathJax.Hub.Config({\n",
       "                        TeX: {\n",
       "                           extensions: [\"AMSmath.js\"]\n",
       "                           },\n",
       "                tex2jax: {\n",
       "                    inlineMath: [ ['$','$'], [\"\\\\(\",\"\\\\)\"] ],\n",
       "                    displayMath: [ ['$$','$$'], [\"\\\\[\",\"\\\\]\"] ]\n",
       "                },\n",
       "                displayAlign: 'center', // Change this to 'center' to center equations.\n",
       "                \"HTML-CSS\": {\n",
       "                    styles: {'.MathJax_Display': {\"margin\": 4}}\n",
       "                }\n",
       "        });\n",
       "</script>\n"
      ],
      "text/plain": [
       "<IPython.core.display.HTML object>"
      ]
     },
     "execution_count": 3,
     "metadata": {},
     "output_type": "execute_result"
    }
   ],
   "source": [
    "#loading style sheet\n",
    "from IPython.core.display import HTML\n",
    "HTML( open('ipython_style.css').read())"
   ]
  },
  {
   "cell_type": "code",
   "execution_count": 1,
   "metadata": {
    "collapsed": false
   },
   "outputs": [],
   "source": [
    "#changing matplotlib defaults\n",
    "%matplotlib inline\n",
    "import seaborn as sns\n",
    "sns.set_palette(\"deep\", desat=.6)\n",
    "sns.set_context(rc={\"figure.figsize\": (8, 4)})\n",
    "sns.set_style(\"whitegrid\")\n",
    "sns.set_palette(sns.color_palette(\"Set1\", 10))"
   ]
  },
  {
   "cell_type": "code",
   "execution_count": 4,
   "metadata": {
    "collapsed": false
   },
   "outputs": [
    {
     "data": {
      "text/html": [
       "// Copyright (c) IPython-Contrib Team.\n",
       "// Distributed under the terms of the Modified BSD License.\n",
       "\n",
       "define([\n",
       "    'base/js/namespace',\n",
       "    'jquery',\n",
       "    'require',\n",
       "    'notebook/js/textcell',\n",
       "    'base/js/utils',\n",
       "    'services/config'\n",
       "],   function(IPython, $, require, textcell, utils, configmod) {\n",
       "    \"use strict\";\n",
       "\n",
       "    var rerender_on_reset = true;\n",
       "    var base_url = utils.get_body_data(\"baseUrl\");\n",
       "    var config = new configmod.ConfigSection('notebook', {base_url: base_url});\n",
       "\n",
       "    /**\n",
       "     * Get option from config\n",
       "     */\n",
       "    config.loaded.then(function() {\n",
       "        if (config.data.hasOwnProperty('equation_numbering_rerender') ) {\n",
       "            if (typeof(config.data.equation_numbering_rerender) === \"boolean\") {\n",
       "                rerender_on_reset = config.data.equation_numbering_rerender;\n",
       "            }\n",
       "        }\n",
       "    });\n",
       "    var load_ipython_extension = function() {\n",
       "        IPython.toolbar.add_buttons_group([\n",
       "            {\n",
       "                id: 'reset_numbering',\n",
       "                label: 'Reset equation numbering',\n",
       "                icon: 'fa-sort-numeric-asc',\n",
       "                callback: function () {\n",
       "                    MathJax.Extension['TeX/AMSmath'].startNumber = 0;\n",
       "                    if (rerender_on_reset === true) {\n",
       "                        MathJax.Hub.Queue([\"Reprocess\", MathJax.Hub]);\n",
       "                    }\n",
       "                    $('#reset_numbering').blur();\n",
       "                }\n",
       "            }\n",
       "        ]);\n",
       "        MathJax.Hub.Config({\n",
       "          TeX: { equationNumbers: { autoNumber: \"AMS\" } }\n",
       "        });\n",
       "        config.load();\n",
       "    };\n",
       "\n",
       "    return {\n",
       "        load_ipython_extension : load_ipython_extension\n",
       "    };\n",
       "});\n"
      ],
      "text/plain": [
       "<IPython.core.display.HTML object>"
      ]
     },
     "execution_count": 4,
     "metadata": {},
     "output_type": "execute_result"
    }
   ],
   "source": [
    "HTML(open('main.js').read())"
   ]
  },
  {
   "cell_type": "code",
   "execution_count": null,
   "metadata": {
    "collapsed": true
   },
   "outputs": [],
   "source": []
  }
 ],
 "metadata": {
  "kernelspec": {
   "display_name": "Python 2",
   "language": "python",
   "name": "python2"
  },
  "language_info": {
   "codemirror_mode": {
    "name": "ipython",
    "version": 2
   },
   "file_extension": ".py",
   "mimetype": "text/x-python",
   "name": "python",
   "nbconvert_exporter": "python",
   "pygments_lexer": "ipython2",
   "version": "2.7.11"
  }
 },
 "nbformat": 4,
 "nbformat_minor": 0
}
